{
 "cells": [
  {
   "attachments": {},
   "cell_type": "markdown",
   "metadata": {},
   "source": [
    "## ダーツボードの自動得点計算"
   ]
  },
  {
   "cell_type": "code",
   "execution_count": 1,
   "metadata": {},
   "outputs": [
    {
     "ename": "NameError",
     "evalue": "name 'ball_colors' is not defined",
     "output_type": "error",
     "traceback": [
      "\u001b[0;31m---------------------------------------------------------------------------\u001b[0m",
      "\u001b[0;31mNameError\u001b[0m                                 Traceback (most recent call last)",
      "\u001b[1;32m/home/sentan2023/Desktop/Dartboard_Detection/notebookでリアルタイム表示2.ipynb セル 2\u001b[0m line \u001b[0;36m6\n\u001b[1;32m     <a href='vscode-notebook-cell://ssh-remote%2Bsentan2023/home/sentan2023/Desktop/Dartboard_Detection/notebook%E3%81%A7%E3%83%AA%E3%82%A2%E3%83%AB%E3%82%BF%E3%82%A4%E3%83%A0%E8%A1%A8%E7%A4%BA2.ipynb#W1sdnNjb2RlLXJlbW90ZQ%3D%3D?line=57'>58</a>\u001b[0m label \u001b[39m=\u001b[39m \u001b[39mf\u001b[39m\u001b[39m\"\u001b[39m\u001b[39mball\u001b[39m\u001b[39m{\u001b[39;00mcount\u001b[39m}\u001b[39;00m\u001b[39m \u001b[39m\u001b[39m\"\u001b[39m\n\u001b[1;32m     <a href='vscode-notebook-cell://ssh-remote%2Bsentan2023/home/sentan2023/Desktop/Dartboard_Detection/notebook%E3%81%A7%E3%83%AA%E3%82%A2%E3%83%AB%E3%82%BF%E3%82%A4%E3%83%A0%E8%A1%A8%E7%A4%BA2.ipynb#W1sdnNjb2RlLXJlbW90ZQ%3D%3D?line=58'>59</a>\u001b[0m text \u001b[39m=\u001b[39m \u001b[39mf\u001b[39m\u001b[39m\"\u001b[39m\u001b[39m{\u001b[39;00mlabel\u001b[39m}\u001b[39;00m\u001b[39m : \u001b[39m\u001b[39m{\u001b[39;00mbbox_coord[:\u001b[39m2\u001b[39m]\u001b[39m}\u001b[39;00m\u001b[39m, \u001b[39m\u001b[39m{\u001b[39;00mbbox_coord[\u001b[39m2\u001b[39m:\u001b[39m4\u001b[39m]\u001b[39m}\u001b[39;00m\u001b[39m (\u001b[39m\u001b[39m{\u001b[39;00mconf\u001b[39m:\u001b[39;00m\u001b[39m.2f\u001b[39m\u001b[39m}\u001b[39;00m\u001b[39m)\u001b[39m\u001b[39m\"\u001b[39m\n\u001b[0;32m---> <a href='vscode-notebook-cell://ssh-remote%2Bsentan2023/home/sentan2023/Desktop/Dartboard_Detection/notebook%E3%81%A7%E3%83%AA%E3%82%A2%E3%83%AB%E3%82%BF%E3%82%A4%E3%83%A0%E8%A1%A8%E7%A4%BA2.ipynb#W1sdnNjb2RlLXJlbW90ZQ%3D%3D?line=60'>61</a>\u001b[0m \u001b[39mprint\u001b[39m(\u001b[39mlen\u001b[39m(ball_colors), count)\n\u001b[1;32m     <a href='vscode-notebook-cell://ssh-remote%2Bsentan2023/home/sentan2023/Desktop/Dartboard_Detection/notebook%E3%81%A7%E3%83%AA%E3%82%A2%E3%83%AB%E3%82%BF%E3%82%A4%E3%83%A0%E8%A1%A8%E7%A4%BA2.ipynb#W1sdnNjb2RlLXJlbW90ZQ%3D%3D?line=61'>62</a>\u001b[0m \u001b[39mif\u001b[39;00m ball_colors[count\u001b[39m-\u001b[39m\u001b[39m1\u001b[39m][\u001b[39m0\u001b[39m] \u001b[39m>\u001b[39m\u001b[39m=\u001b[39m ball_colors[count\u001b[39m-\u001b[39m\u001b[39m1\u001b[39m][\u001b[39m2\u001b[39m]: \u001b[39m# red\u001b[39;00m\n\u001b[1;32m     <a href='vscode-notebook-cell://ssh-remote%2Bsentan2023/home/sentan2023/Desktop/Dartboard_Detection/notebook%E3%81%A7%E3%83%AA%E3%82%A2%E3%83%AB%E3%82%BF%E3%82%A4%E3%83%A0%E8%A1%A8%E7%A4%BA2.ipynb#W1sdnNjb2RlLXJlbW90ZQ%3D%3D?line=62'>63</a>\u001b[0m     frame \u001b[39m=\u001b[39m cv2\u001b[39m.\u001b[39mputText(frame, text, (\u001b[39m10\u001b[39m, \u001b[39m120\u001b[39m\u001b[39m+\u001b[39m(\u001b[39m20\u001b[39m\u001b[39m*\u001b[39mi)), cv2\u001b[39m.\u001b[39mFONT_HERSHEY_SIMPLEX, \u001b[39m0.4\u001b[39m, (\u001b[39m255\u001b[39m, \u001b[39m0\u001b[39m, \u001b[39m0\u001b[39m), \u001b[39m1\u001b[39m, cv2\u001b[39m.\u001b[39mLINE_AA)\n",
      "\u001b[0;31mNameError\u001b[0m: name 'ball_colors' is not defined"
     ]
    }
   ],
   "source": [
    "import cv2\n",
    "import os\n",
    "import IPython\n",
    "\n",
    "from io import BytesIO\n",
    "from PIL import Image\n",
    "\n",
    "from dartboard_evaluator import DartboardEvaluator\n",
    "\n",
    "\n",
    "# 画像をjpegバイナリに変換してIpythonで表示する\n",
    "def show(a, fmt='jpeg'):\n",
    "    f = BytesIO()\n",
    "    Image.fromarray(a).save(f, fmt)\n",
    "    IPython.display.display(IPython.display.Image(data=f.getvalue()))\n",
    "    IPython.display.clear_output(wait=True)\n",
    "\n",
    "def get_ball_color(img):\n",
    "    mean_color_rgb = img.mean(axis=(0, 1))\n",
    "    \n",
    "    if mean_color_rgb[0] >= mean_color_rgb[2]: # R成分がB成分より大きい場合\n",
    "        return \"red\"\n",
    "    elif mean_color_rgb[2] > mean_color_rgb[0]: # B成分がR成分より大きい場合\n",
    "        return \"blue\"\n",
    "    else:\n",
    "        return None\n",
    "\n",
    "darts_eval = DartboardEvaluator(yolo_model_path = \"./models/20230727-1623_yolov8s_sentan-B_v4/weights/best.pt\")\n",
    "\n",
    "cap = cv2.VideoCapture(0)\n",
    "assert cap.isOpened(), 'Could not open video device'\n",
    "try:\n",
    "    while(True):\n",
    "        ret, frame = cap.read() \n",
    "\n",
    "        if ret:\n",
    "            frame = cv2.cvtColor(frame, cv2.COLOR_BGR2RGB)\n",
    "            frame = cv2.resize(frame, (640, 480))\n",
    "\n",
    "            socre = darts_eval(frame)\n",
    "            frame = darts_eval.get_visualized_img()\n",
    "            \n",
    "            # frameを左右拡張160pxずつ拡張して16:9（852x480）にする\n",
    "            frame = cv2.copyMakeBorder(frame, 0, 0, 106, 106, cv2.BORDER_CONSTANT, value=(255, 255, 255))\n",
    "            \n",
    "            frame = cv2.putText(frame, str(socre), (10, 100), cv2.FONT_HERSHEY_SIMPLEX, 3, (0, 0, 255), 5, cv2.LINE_AA)\n",
    "            \n",
    "            count = 0\n",
    "            # ball_colors = darts_eval.get_ball_color()\n",
    "            for i, box in enumerate(darts_eval.result[0].boxes.data.tolist()):\n",
    "                bbox_coord = list(map(int, box[0:4]))\n",
    "                \n",
    "                conf = box[4]\n",
    "                label = int(box[5])\n",
    "\n",
    "                if label == 1:\n",
    "                    count += 1\n",
    "                    label = f\"ball{count} \"\n",
    "                    text = f\"{label} : {bbox_coord[:2]}, {bbox_coord[2:4]} ({conf:.2f})\"\n",
    "                    \n",
    "                    print(len(ball_colors), count)\n",
    "                    if ball_colors[count-1][0] >= ball_colors[count-1][2]: # red\n",
    "                        frame = cv2.putText(frame, text, (10, 120+(20*i)), cv2.FONT_HERSHEY_SIMPLEX, 0.4, (255, 0, 0), 1, cv2.LINE_AA)\n",
    "                    if ball_colors[count-1][2] >= ball_colors[count-1][0]: # blue\n",
    "                        frame = cv2.putText(frame, text, (10, 120+(20*i)), cv2.FONT_HERSHEY_SIMPLEX, 0.4, (0, 0, 255), 1, cv2.LINE_AA)\n",
    "                    \n",
    "                elif label == 2:\n",
    "                    label = \"board\"\n",
    "                    text = f\"{label} : {bbox_coord[:2]}, {bbox_coord[2:4]} ({conf:.2f})\"\n",
    "                    frame = cv2.putText(frame, text, (10, 120+(20*i)), cv2.FONT_HERSHEY_SIMPLEX, 0.4, (0, 255, 0), 1, cv2.LINE_AA)\n",
    "\n",
    "\n",
    "            show(frame)\n",
    "\n",
    "except KeyboardInterrupt:\n",
    "    cap.release()\n",
    "    print('Stream stopped')"
   ]
  }
 ],
 "metadata": {
  "kernelspec": {
   "display_name": "hirahara",
   "language": "python",
   "name": "python3"
  },
  "language_info": {
   "codemirror_mode": {
    "name": "ipython",
    "version": 3
   },
   "file_extension": ".py",
   "mimetype": "text/x-python",
   "name": "python",
   "nbconvert_exporter": "python",
   "pygments_lexer": "ipython3",
   "version": "3.10.9"
  },
  "orig_nbformat": 4
 },
 "nbformat": 4,
 "nbformat_minor": 2
}
